{
  "nbformat": 4,
  "nbformat_minor": 0,
  "metadata": {
    "colab": {
      "provenance": [],
      "machine_shape": "hm",
      "authorship_tag": "ABX9TyN4x6V3mz6LIs0NTvwL+3cf"
    },
    "kernelspec": {
      "name": "python3",
      "display_name": "Python 3"
    },
    "language_info": {
      "name": "python"
    },
    "gpuClass": "premium",
    "accelerator": "GPU"
  },
  "cells": [
    {
      "cell_type": "markdown",
      "source": [
        "# Recipe Review Sentiment Analysis Part 2: A Baseline Model 2.1 \n",
        "\n",
        "[![Open In Colab](https://colab.research.google.com/assets/colab-badge.svg)](https://colab.research.google.com/github/chillyssa/NLP-with-Deep-Learning-Project/blob/main/project_part2-1.ipynb)\n",
        "\n",
        "In my previous notebook [Recipe Review Analysis Part 2: A Baseline Model](https://colab.research.google.com/github/chillyssa/NLP-with-Deep-Learning-Project/blob/main/project_part2.ipynb) I continued my NLP sentiment analysis experiment with [recipe review data](https://www.kaggle.com/datasets/shuyangli94/food-com-recipes-and-user-interactions) from Food.com's online recipe generator. \n",
        "\n",
        "The original data set comes from Kaggle and was originally gathered for the below cited research. \n",
        "\n",
        "Generating Personalized Recipes from Historical User Preferences\n",
        "Bodhisattwa Prasad Majumder*, Shuyang Li*, Jianmo Ni, Julian McAuley\n",
        "EMNLP, 2019\n",
        "https://www.aclweb.org/anthology/D19-1613/\n",
        "\n",
        "## What Happened? \n",
        "\n",
        "My baseline model performed terribly, 48.82% accuracy on my final test data to be exact. There were two major issues with this baseline model that I have chosen to address here in this notebook, calling it a 2.1 version baseline model before moving on to my ultimate goal of using a deep learning model for sentiment analysis. \n",
        "\n",
        "### Issue 1: The 0 Ratings Category\n",
        "During my initial EDA in [Recipe Review Analysis Part I](https://colab.research.google.com/github/chillyssa/NLP-with-Deep-Learning-Project/blob/main/project_part1.ipynb) I discovered that the polarity of the 0 rating category was much higher than I would have expected it to be. From there, I should have looked at the reviews of the 0 ratings a little bit more. Had I done so, I would have discovered that many of the 0 ratings are actually very postive ratings. What I attribute this to is a user leaving a review but not a rating, so the rating is automatically set to 0. For the purposes of this experiment I am opting to remove the reviews with a 0 rating from my data set and only use ratings 1-5. \n",
        "\n",
        "### Issue 2: Incorrect use of vectorizer \n",
        "Initially I was getting different shapes of the one-hot-vector for `X_train`, `X_val` and `X_test`. I found a work around by using the `max_features` parameter to ensure the model would fit to all three data sets. This \"work around\" is actually incorrect. I mistakenly was using the vectorizer’s `fit_transform()` method for `X_train`, `X_val` and `X_test`. The `fit_transform()` method is to be used when the vocabulary is first created one time with the training data. The validation and test data should use the `transform()` method. Credit and Kudos to [Dr. Steve Geinitz](https://github.com/sgeinitz) for helping me see the error of my ways here! \n",
        "\n",
        "\n",
        "\n"
      ],
      "metadata": {
        "id": "TbuMu_FD_Spy"
      }
    },
    {
      "cell_type": "code",
      "source": [
        "# mount google drive to import data files - only have to run this once. \n",
        "from google.colab import drive\n",
        "drive.mount('/content/drive')"
      ],
      "metadata": {
        "colab": {
          "base_uri": "https://localhost:8080/"
        },
        "id": "8vfH9PbSHdj3",
        "outputId": "8a1bb10d-62d5-448f-e7f9-2bb77d457784"
      },
      "execution_count": null,
      "outputs": [
        {
          "output_type": "stream",
          "name": "stdout",
          "text": [
            "Mounted at /content/drive\n"
          ]
        }
      ]
    },
    {
      "cell_type": "code",
      "source": [
        "# importing python modules/packages to be utilized \n",
        "import pandas as pd\n",
        "import numpy as np\n",
        "import matplotlib.pyplot as plt\n",
        "from sklearn.model_selection import train_test_split\n",
        "from sklearn.feature_extraction.text import CountVectorizer\n",
        "from sklearn.feature_extraction.text import TfidfVectorizer\n",
        "from sklearn.metrics import confusion_matrix, ConfusionMatrixDisplay, accuracy_score\n",
        "from sklearn.metrics import log_loss\n",
        "\n",
        "# Trying different models and using the best fit \n",
        "from sklearn.ensemble import RandomForestClassifier, ExtraTreesClassifier, AdaBoostClassifier, GradientBoostingClassifier\n",
        "\n",
        "\n",
        "# importing data set with pandas\n",
        "pd.set_option('display.max_colwidth', 0)\n",
        "train_path = '/content/drive/MyDrive/NLP-F22/data/pp_train.csv'\n",
        "df_train = pd.read_csv(train_path,index_col=0)\n",
        "df_train['tokens'] = df_train['p_review'].str.lower().str.split()\n",
        "\n",
        "# Remove 0 ratings from trainging data set \n",
        "df_train = df_train[df_train['rating'] != 0]\n",
        "review_ratings = df_train['rating'].value_counts()\n",
        "print(review_ratings)\n",
        "df_train.head()"
      ],
      "metadata": {
        "colab": {
          "base_uri": "https://localhost:8080/",
          "height": 632
        },
        "id": "cWmBMa8AG_dl",
        "outputId": "335730ff-dec5-4181-938e-c4baeb2770a8"
      },
      "execution_count": null,
      "outputs": [
        {
          "output_type": "execute_result",
          "data": {
            "text/plain": [
              "   user_id  recipe_id        date  rating  \\\n",
              "0  384043   19023      2008-06-20  5        \n",
              "1  1127316  51803      2009-01-12  0        \n",
              "2  1872570  89207      2011-04-02  0        \n",
              "3  278578   106627     2008-01-25  5        \n",
              "4  235493   28559      2005-09-30  5        \n",
              "\n",
              "                                                                                                                                                                                                                                                                                                                                                                                                         review  \\\n",
              "0  Oh So good!!!!!!!   Thank you for the great recipe.  It was the first time I've ever made my own sauce and I was so proud.                                                                                                                                                                                                                                                                                     \n",
              "1  This is a great soup.  Only, watch out for the flavor packet that it comes with.  It contains MSG, under the name of hydrolyzed soy protein (anything hydrolyzed or autolyzed contains free glutamate).  It is a great soup without the flavor packet.  Yum!                                                                                                                                                   \n",
              "2  Haven't made this yet but just wanted to let HeyLillie know that I printed the recipe and it was correct.  No weird mixup on the measurements.  Perhaps your printer had a glitch.  That said I am anxious to try this frosting on a ho ho cake.   Will post after that.                                                                                                                                       \n",
              "3  great recipe! very easy and tasty. my very picky toddler could not get enough of it so that makes it a keeper!                                                                                                                                                                                                                                                                                                 \n",
              "4  Once again, another fantastic recipe from this cook.  My lasagna never quite turns out right but this was perfect!  Even my picky hubby loved it.  The only difference was I used ricotta instead of cottage cheese but actually I think next time I might go ahead and use cottage cheese.  This was great!  I can't wait to make it again.  Thank you so much for posting this.  You are a fantastic cook!   \n",
              "\n",
              "   review_len  word_count  \\\n",
              "0  122         25           \n",
              "1  252         43           \n",
              "2  264         50           \n",
              "3  110         22           \n",
              "4  396         72           \n",
              "\n",
              "                                                                                                                                                                                                                                                       p_review  \\\n",
              "0  oh good thank great recipe first time ive ever made sauce proud                                                                                                                                                                                                \n",
              "1  great soup watch flavor packet come contains msg name hydrolyzed soy protein anything hydrolyzed autolyzed contains free glutamate great soup without flavor packet yum                                                                                        \n",
              "2  havent made yet wanted let know printed recipe correct weird mixup measurement perhaps printer glitch said anxious try frosting ho ho cake post                                                                                                                \n",
              "3  great recipe easy tasty picky toddler could get enough make keeper                                                                                                                                                                                             \n",
              "4  another fantastic recipe cook lasagna never quite turn right perfect even picky hubby loved difference used ricotta instead cottage cheese actually think next time might go ahead use cottage cheese great cant wait make thank much posting fantastic cook   \n",
              "\n",
              "                                                                                                                                                                                                                                                                                                 tokens  \n",
              "0  [oh, good, thank, great, recipe, first, time, ive, ever, made, sauce, proud]                                                                                                                                                                                                                          \n",
              "1  [great, soup, watch, flavor, packet, come, contains, msg, name, hydrolyzed, soy, protein, anything, hydrolyzed, autolyzed, contains, free, glutamate, great, soup, without, flavor, packet, yum]                                                                                                      \n",
              "2  [havent, made, yet, wanted, let, know, printed, recipe, correct, weird, mixup, measurement, perhaps, printer, glitch, said, anxious, try, frosting, ho, ho, cake, post]                                                                                                                               \n",
              "3  [great, recipe, easy, tasty, picky, toddler, could, get, enough, make, keeper]                                                                                                                                                                                                                        \n",
              "4  [another, fantastic, recipe, cook, lasagna, never, quite, turn, right, perfect, even, picky, hubby, loved, difference, used, ricotta, instead, cottage, cheese, actually, think, next, time, might, go, ahead, use, cottage, cheese, great, cant, wait, make, thank, much, posting, fantastic, cook]  "
            ],
            "text/html": [
              "\n",
              "  <div id=\"df-d933cb35-014c-4b0c-a269-176c408a0158\">\n",
              "    <div class=\"colab-df-container\">\n",
              "      <div>\n",
              "<style scoped>\n",
              "    .dataframe tbody tr th:only-of-type {\n",
              "        vertical-align: middle;\n",
              "    }\n",
              "\n",
              "    .dataframe tbody tr th {\n",
              "        vertical-align: top;\n",
              "    }\n",
              "\n",
              "    .dataframe thead th {\n",
              "        text-align: right;\n",
              "    }\n",
              "</style>\n",
              "<table border=\"1\" class=\"dataframe\">\n",
              "  <thead>\n",
              "    <tr style=\"text-align: right;\">\n",
              "      <th></th>\n",
              "      <th>user_id</th>\n",
              "      <th>recipe_id</th>\n",
              "      <th>date</th>\n",
              "      <th>rating</th>\n",
              "      <th>review</th>\n",
              "      <th>review_len</th>\n",
              "      <th>word_count</th>\n",
              "      <th>p_review</th>\n",
              "      <th>tokens</th>\n",
              "    </tr>\n",
              "  </thead>\n",
              "  <tbody>\n",
              "    <tr>\n",
              "      <th>0</th>\n",
              "      <td>384043</td>\n",
              "      <td>19023</td>\n",
              "      <td>2008-06-20</td>\n",
              "      <td>5</td>\n",
              "      <td>Oh So good!!!!!!!   Thank you for the great recipe.  It was the first time I've ever made my own sauce and I was so proud.</td>\n",
              "      <td>122</td>\n",
              "      <td>25</td>\n",
              "      <td>oh good thank great recipe first time ive ever made sauce proud</td>\n",
              "      <td>[oh, good, thank, great, recipe, first, time, ive, ever, made, sauce, proud]</td>\n",
              "    </tr>\n",
              "    <tr>\n",
              "      <th>1</th>\n",
              "      <td>1127316</td>\n",
              "      <td>51803</td>\n",
              "      <td>2009-01-12</td>\n",
              "      <td>0</td>\n",
              "      <td>This is a great soup.  Only, watch out for the flavor packet that it comes with.  It contains MSG, under the name of hydrolyzed soy protein (anything hydrolyzed or autolyzed contains free glutamate).  It is a great soup without the flavor packet.  Yum!</td>\n",
              "      <td>252</td>\n",
              "      <td>43</td>\n",
              "      <td>great soup watch flavor packet come contains msg name hydrolyzed soy protein anything hydrolyzed autolyzed contains free glutamate great soup without flavor packet yum</td>\n",
              "      <td>[great, soup, watch, flavor, packet, come, contains, msg, name, hydrolyzed, soy, protein, anything, hydrolyzed, autolyzed, contains, free, glutamate, great, soup, without, flavor, packet, yum]</td>\n",
              "    </tr>\n",
              "    <tr>\n",
              "      <th>2</th>\n",
              "      <td>1872570</td>\n",
              "      <td>89207</td>\n",
              "      <td>2011-04-02</td>\n",
              "      <td>0</td>\n",
              "      <td>Haven't made this yet but just wanted to let HeyLillie know that I printed the recipe and it was correct.  No weird mixup on the measurements.  Perhaps your printer had a glitch.  That said I am anxious to try this frosting on a ho ho cake.   Will post after that.</td>\n",
              "      <td>264</td>\n",
              "      <td>50</td>\n",
              "      <td>havent made yet wanted let know printed recipe correct weird mixup measurement perhaps printer glitch said anxious try frosting ho ho cake post</td>\n",
              "      <td>[havent, made, yet, wanted, let, know, printed, recipe, correct, weird, mixup, measurement, perhaps, printer, glitch, said, anxious, try, frosting, ho, ho, cake, post]</td>\n",
              "    </tr>\n",
              "    <tr>\n",
              "      <th>3</th>\n",
              "      <td>278578</td>\n",
              "      <td>106627</td>\n",
              "      <td>2008-01-25</td>\n",
              "      <td>5</td>\n",
              "      <td>great recipe! very easy and tasty. my very picky toddler could not get enough of it so that makes it a keeper!</td>\n",
              "      <td>110</td>\n",
              "      <td>22</td>\n",
              "      <td>great recipe easy tasty picky toddler could get enough make keeper</td>\n",
              "      <td>[great, recipe, easy, tasty, picky, toddler, could, get, enough, make, keeper]</td>\n",
              "    </tr>\n",
              "    <tr>\n",
              "      <th>4</th>\n",
              "      <td>235493</td>\n",
              "      <td>28559</td>\n",
              "      <td>2005-09-30</td>\n",
              "      <td>5</td>\n",
              "      <td>Once again, another fantastic recipe from this cook.  My lasagna never quite turns out right but this was perfect!  Even my picky hubby loved it.  The only difference was I used ricotta instead of cottage cheese but actually I think next time I might go ahead and use cottage cheese.  This was great!  I can't wait to make it again.  Thank you so much for posting this.  You are a fantastic cook!</td>\n",
              "      <td>396</td>\n",
              "      <td>72</td>\n",
              "      <td>another fantastic recipe cook lasagna never quite turn right perfect even picky hubby loved difference used ricotta instead cottage cheese actually think next time might go ahead use cottage cheese great cant wait make thank much posting fantastic cook</td>\n",
              "      <td>[another, fantastic, recipe, cook, lasagna, never, quite, turn, right, perfect, even, picky, hubby, loved, difference, used, ricotta, instead, cottage, cheese, actually, think, next, time, might, go, ahead, use, cottage, cheese, great, cant, wait, make, thank, much, posting, fantastic, cook]</td>\n",
              "    </tr>\n",
              "  </tbody>\n",
              "</table>\n",
              "</div>\n",
              "      <button class=\"colab-df-convert\" onclick=\"convertToInteractive('df-d933cb35-014c-4b0c-a269-176c408a0158')\"\n",
              "              title=\"Convert this dataframe to an interactive table.\"\n",
              "              style=\"display:none;\">\n",
              "        \n",
              "  <svg xmlns=\"http://www.w3.org/2000/svg\" height=\"24px\"viewBox=\"0 0 24 24\"\n",
              "       width=\"24px\">\n",
              "    <path d=\"M0 0h24v24H0V0z\" fill=\"none\"/>\n",
              "    <path d=\"M18.56 5.44l.94 2.06.94-2.06 2.06-.94-2.06-.94-.94-2.06-.94 2.06-2.06.94zm-11 1L8.5 8.5l.94-2.06 2.06-.94-2.06-.94L8.5 2.5l-.94 2.06-2.06.94zm10 10l.94 2.06.94-2.06 2.06-.94-2.06-.94-.94-2.06-.94 2.06-2.06.94z\"/><path d=\"M17.41 7.96l-1.37-1.37c-.4-.4-.92-.59-1.43-.59-.52 0-1.04.2-1.43.59L10.3 9.45l-7.72 7.72c-.78.78-.78 2.05 0 2.83L4 21.41c.39.39.9.59 1.41.59.51 0 1.02-.2 1.41-.59l7.78-7.78 2.81-2.81c.8-.78.8-2.07 0-2.86zM5.41 20L4 18.59l7.72-7.72 1.47 1.35L5.41 20z\"/>\n",
              "  </svg>\n",
              "      </button>\n",
              "      \n",
              "  <style>\n",
              "    .colab-df-container {\n",
              "      display:flex;\n",
              "      flex-wrap:wrap;\n",
              "      gap: 12px;\n",
              "    }\n",
              "\n",
              "    .colab-df-convert {\n",
              "      background-color: #E8F0FE;\n",
              "      border: none;\n",
              "      border-radius: 50%;\n",
              "      cursor: pointer;\n",
              "      display: none;\n",
              "      fill: #1967D2;\n",
              "      height: 32px;\n",
              "      padding: 0 0 0 0;\n",
              "      width: 32px;\n",
              "    }\n",
              "\n",
              "    .colab-df-convert:hover {\n",
              "      background-color: #E2EBFA;\n",
              "      box-shadow: 0px 1px 2px rgba(60, 64, 67, 0.3), 0px 1px 3px 1px rgba(60, 64, 67, 0.15);\n",
              "      fill: #174EA6;\n",
              "    }\n",
              "\n",
              "    [theme=dark] .colab-df-convert {\n",
              "      background-color: #3B4455;\n",
              "      fill: #D2E3FC;\n",
              "    }\n",
              "\n",
              "    [theme=dark] .colab-df-convert:hover {\n",
              "      background-color: #434B5C;\n",
              "      box-shadow: 0px 1px 3px 1px rgba(0, 0, 0, 0.15);\n",
              "      filter: drop-shadow(0px 1px 2px rgba(0, 0, 0, 0.3));\n",
              "      fill: #FFFFFF;\n",
              "    }\n",
              "  </style>\n",
              "\n",
              "      <script>\n",
              "        const buttonEl =\n",
              "          document.querySelector('#df-d933cb35-014c-4b0c-a269-176c408a0158 button.colab-df-convert');\n",
              "        buttonEl.style.display =\n",
              "          google.colab.kernel.accessAllowed ? 'block' : 'none';\n",
              "\n",
              "        async function convertToInteractive(key) {\n",
              "          const element = document.querySelector('#df-d933cb35-014c-4b0c-a269-176c408a0158');\n",
              "          const dataTable =\n",
              "            await google.colab.kernel.invokeFunction('convertToInteractive',\n",
              "                                                     [key], {});\n",
              "          if (!dataTable) return;\n",
              "\n",
              "          const docLinkHtml = 'Like what you see? Visit the ' +\n",
              "            '<a target=\"_blank\" href=https://colab.research.google.com/notebooks/data_table.ipynb>data table notebook</a>'\n",
              "            + ' to learn more about interactive tables.';\n",
              "          element.innerHTML = '';\n",
              "          dataTable['output_type'] = 'display_data';\n",
              "          await google.colab.output.renderOutput(dataTable, element);\n",
              "          const docLink = document.createElement('div');\n",
              "          docLink.innerHTML = docLinkHtml;\n",
              "          element.appendChild(docLink);\n",
              "        }\n",
              "      </script>\n",
              "    </div>\n",
              "  </div>\n",
              "  "
            ]
          },
          "metadata": {},
          "execution_count": 3
        }
      ]
    },
    {
      "cell_type": "markdown",
      "source": [
        "## Splitting Data and Tokenization \n",
        "I want to extract the training data we are focusing on which is the recipe reviews(input features) and the rating(targets/labels). Note that we do already have a column feature of `tokens` that I created from `p_review` in my previous notebook, however I am going to instead tokenize `p_review` using Scikit-learn's `CountVectorizer` class. This will transform my `p_review` text into a matrix of token counts. I will use this later with the test/validation data as well. \n",
        "\n",
        "Additionally, I will split the training data furhter into training data and validation data to avoid data leakage while training the base model. I will use 80% of the data for training and 20% for validation. "
      ],
      "metadata": {
        "id": "6Ivw4hVJWiOI"
      }
    },
    {
      "cell_type": "code",
      "source": [
        "# X will hold our processed review text and y will hold the rating which is our label/target value. \n",
        "X = df_train['p_review'].copy().astype('U')\n",
        "y = df_train['rating'].copy().astype('U')\n",
        "\n",
        "# split data into train and validation sets: df_train and df_val\n",
        "X_train_raw, X_val_raw, y_train, y_val = train_test_split(X, y, test_size=0.20, random_state=42)\n",
        "\n",
        "# tokenize p_review into a matrix for X_train and X_val\n",
        "one_hot_vectorizer = CountVectorizer(binary=True)\n",
        "X_train = one_hot_vectorizer.fit_transform(X_train_raw)\n",
        "X_val = one_hot_vectorizer.transform(X_val_raw)\n",
        "\n",
        "# tfidf_vectorizer = TfidfVectorizer()\n",
        "# X_train = tfidf_vectorizer.fit_transform(X_train_raw).toarray()\n",
        "# X_val = tfidf_vectorizer.fit_transform(X_val_raw).toarray()\n",
        "\n",
        "print(f\"X_train.shape = {X_train.shape}\")\n",
        "print(f\"X_val.shape = {X_val.shape}\")\n",
        "type(X_train)\n",
        "type(X_val)"
      ],
      "metadata": {
        "colab": {
          "base_uri": "https://localhost:8080/"
        },
        "id": "7jmhSDnxVJNf",
        "outputId": "dd1835df-5652-47c1-8aa9-3c91f44e331f"
      },
      "execution_count": null,
      "outputs": [
        {
          "output_type": "stream",
          "name": "stdout",
          "text": [
            "X_train.shape = (166302, 28261)\n",
            "X_val.shape = (41576, 28261)\n"
          ]
        },
        {
          "output_type": "execute_result",
          "data": {
            "text/plain": [
              "scipy.sparse.csr.csr_matrix"
            ]
          },
          "metadata": {},
          "execution_count": 14
        }
      ]
    },
    {
      "cell_type": "markdown",
      "source": [
        "## The Baseline Model 2.1 \n",
        "\n",
        "We have removed all the 0 ratings and fixed the methods used on our vectorizer so now we can use the tokens build a new baseline model that hopefully performs better than part 2! I am going to use the exact same model as before, the [RandomForestClassifier](https://scikit-learn.org/stable/modules/generated/sklearn.ensemble.RandomForestClassifier.html). I will first start with the training data and then move to the validation data. Then I will execute a funciton for hyperparameter tuning to see if we can increase accuracy! "
      ],
      "metadata": {
        "id": "RxSudiZ9fcXz"
      }
    },
    {
      "cell_type": "markdown",
      "source": [
        "### Random Forest"
      ],
      "metadata": {
        "id": "HdGBXhYoi93k"
      }
    },
    {
      "cell_type": "code",
      "source": [
        "#init a model using scikit-learn's RandomForestClassifier model \n",
        "rf_model = RandomForestClassifier(n_estimators=25)\n",
        "\n",
        "#Fit the model to the training data, \n",
        "rf_model = rf_model.fit(X_train, y_train)\n",
        "rf_predictions_train = rf_model.predict(X_train)\n",
        "\n",
        "rf_display = ConfusionMatrixDisplay(confusion_matrix(y_train, rf_predictions_train), display_labels=['1', '2','3','4','5'])\n",
        "rf_display.plot()\n",
        "print(f\"Random Forest accuracy (on X_train): {accuracy_score(y_train, rf_predictions_train):.4f}\")"
      ],
      "metadata": {
        "colab": {
          "base_uri": "https://localhost:8080/",
          "height": 296
        },
        "id": "kivXuSQYjBSd",
        "outputId": "672e1da4-9bdd-4a54-c79b-992bcb7fbe06"
      },
      "execution_count": null,
      "outputs": [
        {
          "output_type": "stream",
          "name": "stdout",
          "text": [
            "Random Forest accuracy (on X_train): 0.9959\n"
          ]
        },
        {
          "output_type": "display_data",
          "data": {
            "text/plain": [
              "<Figure size 432x288 with 2 Axes>"
            ],
            "image/png": "[encoded data removed]"
          },
          "metadata": {
            "needs_background": "light"
          }
        }
      ]
    },
    {
      "cell_type": "markdown",
      "source": [
        "#### Fitting Random Forest to the Validation Data "
      ],
      "metadata": {
        "id": "0FCiDbfSAVg7"
      }
    },
    {
      "cell_type": "code",
      "source": [
        "#tokenizing p_review on validation data \n",
        "X_val = one_hot_vectorizer.transform(X_val_raw)\n",
        "print(f\"X_val.shape = {X_val.shape}\")\n",
        "type(X_val)"
      ],
      "metadata": {
        "colab": {
          "base_uri": "https://localhost:8080/"
        },
        "id": "w91MLGvbAoX4",
        "outputId": "d9f3b385-d1ea-45d3-aa78-53b4f3b28419"
      },
      "execution_count": null,
      "outputs": [
        {
          "output_type": "stream",
          "name": "stdout",
          "text": [
            "X_val.shape = (41576, 28261)\n"
          ]
        },
        {
          "output_type": "execute_result",
          "data": {
            "text/plain": [
              "scipy.sparse.csr.csr_matrix"
            ]
          },
          "metadata": {},
          "execution_count": 15
        }
      ]
    },
    {
      "cell_type": "code",
      "source": [
        "rf_predictions_val = rf_model.predict(X_val)\n",
        "disp = ConfusionMatrixDisplay(confusion_matrix(y_val, rf_predictions_val), display_labels=['1', '2','3','4','5'])\n",
        "disp.plot()\n",
        "print(f\"accuracy (on X_train): {accuracy_score(y_val, rf_predictions_val):.4f}\")"
      ],
      "metadata": {
        "colab": {
          "base_uri": "https://localhost:8080/",
          "height": 296
        },
        "id": "lF12h4YvAifX",
        "outputId": "db33719b-bf28-42bf-b9cf-38446e9d7b95"
      },
      "execution_count": null,
      "outputs": [
        {
          "output_type": "stream",
          "name": "stdout",
          "text": [
            "accuracy (on X_train): 0.8103\n"
          ]
        },
        {
          "output_type": "display_data",
          "data": {
            "text/plain": [
              "<Figure size 432x288 with 2 Axes>"
            ],
            "image/png": "[encoded data removed]"
          },
          "metadata": {
            "needs_background": "light"
          }
        }
      ]
    },
    {
      "cell_type": "markdown",
      "source": [
        "#### Tuning a Hyperparameter "
      ],
      "metadata": {
        "id": "rwDOYgq6HxtO"
      }
    },
    {
      "cell_type": "code",
      "source": [
        "rf_tune = True # change this to False once hyperparam value is set \n",
        "\n",
        "# A function to create and fit a RF with a specific number of trees\n",
        "def rf_tune_model(hyperparam_value):\n",
        "    rf_model = RandomForestClassifier(n_estimators=hyperparam_value, random_state=5)\n",
        "    rf_model.fit(X_train, y_train)\n",
        "    y_train_pred_prob = rf_model.predict_proba(X_train)\n",
        "    y_train_pred = rf_model.predict(X_train)\n",
        "    y_val_pred_prob = rf_model.predict_proba(X_val)\n",
        "    y_val_pred = rf_model.predict(X_val)\n",
        "    train_loss = log_loss(y_train, y_train_pred_prob, labels=['1','2','3','4','5'])\n",
        "    train_acc = accuracy_score(y_train, y_train_pred)\n",
        "    val_loss = log_loss(y_val, y_val_pred_prob, labels=['1','2','3','4','5'])\n",
        "    val_acc = accuracy_score(y_val, y_val_pred)\n",
        "    return (train_loss, val_loss, train_acc, val_acc)\n",
        "\n",
        "# Possible values for the hyperparameter are in the range of 5 to 150 (by 50)\n",
        "hyp_param_vals = list(range(10,261,50)) # good values for n_estimators\n",
        "\n",
        "metrics = []\n",
        "\n",
        "if rf_tune:\n",
        "    for hp in hyp_param_vals:\n",
        "        metrics.append(rf_tune_model(hp))"
      ],
      "metadata": {
        "id": "LuEF77goH7DE"
      },
      "execution_count": null,
      "outputs": []
    },
    {
      "cell_type": "markdown",
      "source": [
        "##### Model Performance Results for Hyperparameter Tuning "
      ],
      "metadata": {
        "id": "154aVPZjd4vq"
      }
    },
    {
      "cell_type": "code",
      "source": [
        "# plot the results of each hyperparameter value specified in rf_tune_model \n",
        "if rf_tune:\n",
        "    fig, (ax1, ax2) = plt.subplots(1, 2, figsize=(16, 4))\n",
        "\n",
        "    ax1.set_xticks(hyp_param_vals)\n",
        "    ax1.set(xlabel=\"n_estimators\", ylabel=\"loss (lower is better)\")\n",
        "    ax1.plot(hyp_param_vals, [metric[1] for metric in metrics], '--ro') # validation loss\n",
        "    ax1.plot(hyp_param_vals, [metric[0] for metric in metrics], '--bo') # training loss\n",
        "    ax1.legend([\"Validation Loss\", \"Train Loss\"], loc=1)\n",
        "\n",
        "    ax2.set_xticks(hyp_param_vals)\n",
        "    ax2.set(xlabel=\"n_estimators\", ylabel=\"accuracy (higher is better)\")\n",
        "    ax2.plot(hyp_param_vals, [metric[3] for metric in metrics], '--ro') # validation accuracy\n",
        "    ax2.plot(hyp_param_vals, [metric[2] for metric in metrics], '--bo') # training accuracy\n",
        "    ax2.legend([\"Validation Accuracy\", \"Train Accuracy\"], loc=4)"
      ],
      "metadata": {
        "colab": {
          "base_uri": "https://localhost:8080/",
          "height": 280
        },
        "id": "imuznmfheD8N",
        "outputId": "7be5597c-d009-445a-c2ea-5e3a1b008717"
      },
      "execution_count": null,
      "outputs": [
        {
          "output_type": "display_data",
          "data": {
            "text/plain": [
              "<Figure size 1152x288 with 2 Axes>"
            ],
            "image/png": "[encoded data removed]"
          },
          "metadata": {
            "needs_background": "light"
          }
        }
      ]
    },
    {
      "cell_type": "code",
      "source": [
        "# a data frame containing hyperparam values, second row containing validation loss, third row containing validation accuracy\n",
        "\n",
        "if rf_tune_model:\n",
        "  tuning_data = {'Hyperparameter Values': hyp_param_vals, \n",
        "                 'Log Loss': [round(metric[1],2) for metric in metrics], \n",
        "                 'Accuracy Score': [round(metric[3],2) for metric in metrics]}\n",
        "  tuning_results = pd.DataFrame(tuning_data)\n",
        "  print(tuning_results)"
      ],
      "metadata": {
        "colab": {
          "base_uri": "https://localhost:8080/"
        },
        "id": "JDyRdGhJemWA",
        "outputId": "7a522396-bba7-4634-de3e-8ccebac4813e"
      },
      "execution_count": null,
      "outputs": [
        {
          "output_type": "stream",
          "name": "stdout",
          "text": [
            "   Hyperparameter Values  Log Loss  Accuracy Score\n",
            "0  10                     1.83      0.81          \n",
            "1  60                     0.63      0.81          \n",
            "2  110                    0.57      0.81          \n",
            "3  160                    0.55      0.81          \n",
            "4  210                    0.54      0.81          \n",
            "5  260                    0.54      0.81          \n"
          ]
        }
      ]
    },
    {
      "cell_type": "markdown",
      "source": [
        "## Test Data "
      ],
      "metadata": {
        "id": "MSWJoEYIGUlJ"
      }
    },
    {
      "cell_type": "code",
      "source": [
        "test_path = '/content/drive/MyDrive/NLP-F22/data/pp_test.csv'\n",
        "df_test = pd.read_csv(test_path, index_col=0)\n",
        "\n",
        "# Remove 0 ratings from test data set \n",
        "df_test = df_test[df_test['rating'] != 0]\n",
        "review_ratings = df_test['rating'].value_counts()\n",
        "print(review_ratings)\n",
        "\n",
        "\n",
        "X_test = one_hot_vectorizer.transform(df_test['p_review'].astype('U'))\n",
        "y_test = df_test['rating'].copy().astype('U')\n",
        "print(f\"X_test.shape = {X_test.shape}\")\n",
        "print(type(X_test))\n",
        "df_test.head()"
      ],
      "metadata": {
        "colab": {
          "base_uri": "https://localhost:8080/",
          "height": 580
        },
        "id": "Vc3sCCECGWvg",
        "outputId": "a7541087-7348-43c8-a112-6bea5ed69e9e"
      },
      "execution_count": null,
      "outputs": [
        {
          "output_type": "stream",
          "name": "stdout",
          "text": [
            "5    43032\n",
            "4    6844 \n",
            "3    1812 \n",
            "2    760  \n",
            "1    676  \n",
            "Name: rating, dtype: int64\n",
            "X_test.shape = (53124, 28261)\n",
            "<class 'scipy.sparse.csr.csr_matrix'>\n"
          ]
        },
        {
          "output_type": "execute_result",
          "data": {
            "text/plain": [
              "        user_id  recipe_id        date  rating  \\\n",
              "592612  764278   32614      2012-12-22  5        \n",
              "469583  2039663  29679      2012-01-24  5        \n",
              "329767  1597075  59311      2012-05-22  5        \n",
              "161447  880806   10125      2009-10-23  5        \n",
              "993644  155943   54677      2006-10-09  5        \n",
              "\n",
              "                                                                                                                                                                                                                                                                                                                                                                                                                            review  \\\n",
              "592612  I made these last night for a Christmas caroling party and they were devoured.  Amazing and simple!  Thanks for the recipe!                                                                                                                                                                                                                                                                                                  \n",
              "469583  Very rich and does taste very similar to Reese's. Made half a batch and probably would have been enough for 10  people. There were 4 adults in the party and we had 3/4 of it left not because of the taste but because of the richness. Next time I will try it in mini muffin cups. Although my husband loves Reese's, he didn't care too much for these (maybe the richness was too much for him?). Thanks for sharing!   \n",
              "329767  Great pork chops.My husband and 4 year old daughters favorite                                                                                                                                                                                                                                                                                                                                                                \n",
              "161447  These cookies ROCK!  I did them with M & M's and chocolate pudding...I was a hero in my house!                                                                                                                                                                                                                                                                                                                               \n",
              "993644  Very good, very easy.  I used potato bread for mine. :)                                                                                                                                                                                                                                                                                                                                                                      \n",
              "\n",
              "                                                                                                                                                                                                                                          p_review  \\\n",
              "592612  i made last night christmas party devoured amazing simple thanks recipe                                                                                                                                                                      \n",
              "469583  very rich taste similar reeses made half batch probably would enough 10 people there 4 adult party 3 4 left taste richness next time i try mini muffin cup although husband love reeses didnt care much maybe richness much thanks sharing   \n",
              "329767  great pork husband 4 year old daughter favorite                                                                                                                                                                                              \n",
              "161447  these cooky rock i m ms chocolate hero house                                                                                                                                                                                                 \n",
              "993644  very good easy i used potato bread mine                                                                                                                                                                                                      \n",
              "\n",
              "                                                                                                                                                                                                                                                                                                                                                                        tokens  \n",
              "592612  ['i', 'made', 'last', 'night', 'christmas', 'party', 'devoured', 'amazing', 'simple', 'thanks', 'recipe']                                                                                                                                                                                                                                                               \n",
              "469583  ['very', 'rich', 'taste', 'similar', 'reeses', 'made', 'half', 'batch', 'probably', 'would', 'enough', '10', 'people', 'there', '4', 'adult', 'party', '3', '4', 'left', 'taste', 'richness', 'next', 'time', 'i', 'try', 'mini', 'muffin', 'cup', 'although', 'husband', 'love', 'reeses', 'didnt', 'care', 'much', 'maybe', 'richness', 'much', 'thanks', 'sharing']  \n",
              "329767  ['great', 'pork', 'husband', '4', 'year', 'old', 'daughter', 'favorite']                                                                                                                                                                                                                                                                                                \n",
              "161447  ['these', 'cooky', 'rock', 'i', 'm', 'ms', 'chocolate', 'hero', 'house']                                                                                                                                                                                                                                                                                                \n",
              "993644  ['very', 'good', 'easy', 'i', 'used', 'potato', 'bread', 'mine']                                                                                                                                                                                                                                                                                                        "
            ],
            "text/html": [
              "\n",
              "  <div id=\"df-973cef40-8ae6-4d10-916f-4f4b038348e1\">\n",
              "    <div class=\"colab-df-container\">\n",
              "      <div>\n",
              "<style scoped>\n",
              "    .dataframe tbody tr th:only-of-type {\n",
              "        vertical-align: middle;\n",
              "    }\n",
              "\n",
              "    .dataframe tbody tr th {\n",
              "        vertical-align: top;\n",
              "    }\n",
              "\n",
              "    .dataframe thead th {\n",
              "        text-align: right;\n",
              "    }\n",
              "</style>\n",
              "<table border=\"1\" class=\"dataframe\">\n",
              "  <thead>\n",
              "    <tr style=\"text-align: right;\">\n",
              "      <th></th>\n",
              "      <th>user_id</th>\n",
              "      <th>recipe_id</th>\n",
              "      <th>date</th>\n",
              "      <th>rating</th>\n",
              "      <th>review</th>\n",
              "      <th>p_review</th>\n",
              "      <th>tokens</th>\n",
              "    </tr>\n",
              "  </thead>\n",
              "  <tbody>\n",
              "    <tr>\n",
              "      <th>592612</th>\n",
              "      <td>764278</td>\n",
              "      <td>32614</td>\n",
              "      <td>2012-12-22</td>\n",
              "      <td>5</td>\n",
              "      <td>I made these last night for a Christmas caroling party and they were devoured.  Amazing and simple!  Thanks for the recipe!</td>\n",
              "      <td>i made last night christmas party devoured amazing simple thanks recipe</td>\n",
              "      <td>['i', 'made', 'last', 'night', 'christmas', 'party', 'devoured', 'amazing', 'simple', 'thanks', 'recipe']</td>\n",
              "    </tr>\n",
              "    <tr>\n",
              "      <th>469583</th>\n",
              "      <td>2039663</td>\n",
              "      <td>29679</td>\n",
              "      <td>2012-01-24</td>\n",
              "      <td>5</td>\n",
              "      <td>Very rich and does taste very similar to Reese's. Made half a batch and probably would have been enough for 10  people. There were 4 adults in the party and we had 3/4 of it left not because of the taste but because of the richness. Next time I will try it in mini muffin cups. Although my husband loves Reese's, he didn't care too much for these (maybe the richness was too much for him?). Thanks for sharing!</td>\n",
              "      <td>very rich taste similar reeses made half batch probably would enough 10 people there 4 adult party 3 4 left taste richness next time i try mini muffin cup although husband love reeses didnt care much maybe richness much thanks sharing</td>\n",
              "      <td>['very', 'rich', 'taste', 'similar', 'reeses', 'made', 'half', 'batch', 'probably', 'would', 'enough', '10', 'people', 'there', '4', 'adult', 'party', '3', '4', 'left', 'taste', 'richness', 'next', 'time', 'i', 'try', 'mini', 'muffin', 'cup', 'although', 'husband', 'love', 'reeses', 'didnt', 'care', 'much', 'maybe', 'richness', 'much', 'thanks', 'sharing']</td>\n",
              "    </tr>\n",
              "    <tr>\n",
              "      <th>329767</th>\n",
              "      <td>1597075</td>\n",
              "      <td>59311</td>\n",
              "      <td>2012-05-22</td>\n",
              "      <td>5</td>\n",
              "      <td>Great pork chops.My husband and 4 year old daughters favorite</td>\n",
              "      <td>great pork husband 4 year old daughter favorite</td>\n",
              "      <td>['great', 'pork', 'husband', '4', 'year', 'old', 'daughter', 'favorite']</td>\n",
              "    </tr>\n",
              "    <tr>\n",
              "      <th>161447</th>\n",
              "      <td>880806</td>\n",
              "      <td>10125</td>\n",
              "      <td>2009-10-23</td>\n",
              "      <td>5</td>\n",
              "      <td>These cookies ROCK!  I did them with M &amp; M's and chocolate pudding...I was a hero in my house!</td>\n",
              "      <td>these cooky rock i m ms chocolate hero house</td>\n",
              "      <td>['these', 'cooky', 'rock', 'i', 'm', 'ms', 'chocolate', 'hero', 'house']</td>\n",
              "    </tr>\n",
              "    <tr>\n",
              "      <th>993644</th>\n",
              "      <td>155943</td>\n",
              "      <td>54677</td>\n",
              "      <td>2006-10-09</td>\n",
              "      <td>5</td>\n",
              "      <td>Very good, very easy.  I used potato bread for mine. :)</td>\n",
              "      <td>very good easy i used potato bread mine</td>\n",
              "      <td>['very', 'good', 'easy', 'i', 'used', 'potato', 'bread', 'mine']</td>\n",
              "    </tr>\n",
              "  </tbody>\n",
              "</table>\n",
              "</div>\n",
              "      <button class=\"colab-df-convert\" onclick=\"convertToInteractive('df-973cef40-8ae6-4d10-916f-4f4b038348e1')\"\n",
              "              title=\"Convert this dataframe to an interactive table.\"\n",
              "              style=\"display:none;\">\n",
              "        \n",
              "  <svg xmlns=\"http://www.w3.org/2000/svg\" height=\"24px\"viewBox=\"0 0 24 24\"\n",
              "       width=\"24px\">\n",
              "    <path d=\"M0 0h24v24H0V0z\" fill=\"none\"/>\n",
              "    <path d=\"M18.56 5.44l.94 2.06.94-2.06 2.06-.94-2.06-.94-.94-2.06-.94 2.06-2.06.94zm-11 1L8.5 8.5l.94-2.06 2.06-.94-2.06-.94L8.5 2.5l-.94 2.06-2.06.94zm10 10l.94 2.06.94-2.06 2.06-.94-2.06-.94-.94-2.06-.94 2.06-2.06.94z\"/><path d=\"M17.41 7.96l-1.37-1.37c-.4-.4-.92-.59-1.43-.59-.52 0-1.04.2-1.43.59L10.3 9.45l-7.72 7.72c-.78.78-.78 2.05 0 2.83L4 21.41c.39.39.9.59 1.41.59.51 0 1.02-.2 1.41-.59l7.78-7.78 2.81-2.81c.8-.78.8-2.07 0-2.86zM5.41 20L4 18.59l7.72-7.72 1.47 1.35L5.41 20z\"/>\n",
              "  </svg>\n",
              "      </button>\n",
              "      \n",
              "  <style>\n",
              "    .colab-df-container {\n",
              "      display:flex;\n",
              "      flex-wrap:wrap;\n",
              "      gap: 12px;\n",
              "    }\n",
              "\n",
              "    .colab-df-convert {\n",
              "      background-color: #E8F0FE;\n",
              "      border: none;\n",
              "      border-radius: 50%;\n",
              "      cursor: pointer;\n",
              "      display: none;\n",
              "      fill: #1967D2;\n",
              "      height: 32px;\n",
              "      padding: 0 0 0 0;\n",
              "      width: 32px;\n",
              "    }\n",
              "\n",
              "    .colab-df-convert:hover {\n",
              "      background-color: #E2EBFA;\n",
              "      box-shadow: 0px 1px 2px rgba(60, 64, 67, 0.3), 0px 1px 3px 1px rgba(60, 64, 67, 0.15);\n",
              "      fill: #174EA6;\n",
              "    }\n",
              "\n",
              "    [theme=dark] .colab-df-convert {\n",
              "      background-color: #3B4455;\n",
              "      fill: #D2E3FC;\n",
              "    }\n",
              "\n",
              "    [theme=dark] .colab-df-convert:hover {\n",
              "      background-color: #434B5C;\n",
              "      box-shadow: 0px 1px 3px 1px rgba(0, 0, 0, 0.15);\n",
              "      filter: drop-shadow(0px 1px 2px rgba(0, 0, 0, 0.3));\n",
              "      fill: #FFFFFF;\n",
              "    }\n",
              "  </style>\n",
              "\n",
              "      <script>\n",
              "        const buttonEl =\n",
              "          document.querySelector('#df-973cef40-8ae6-4d10-916f-4f4b038348e1 button.colab-df-convert');\n",
              "        buttonEl.style.display =\n",
              "          google.colab.kernel.accessAllowed ? 'block' : 'none';\n",
              "\n",
              "        async function convertToInteractive(key) {\n",
              "          const element = document.querySelector('#df-973cef40-8ae6-4d10-916f-4f4b038348e1');\n",
              "          const dataTable =\n",
              "            await google.colab.kernel.invokeFunction('convertToInteractive',\n",
              "                                                     [key], {});\n",
              "          if (!dataTable) return;\n",
              "\n",
              "          const docLinkHtml = 'Like what you see? Visit the ' +\n",
              "            '<a target=\"_blank\" href=https://colab.research.google.com/notebooks/data_table.ipynb>data table notebook</a>'\n",
              "            + ' to learn more about interactive tables.';\n",
              "          element.innerHTML = '';\n",
              "          dataTable['output_type'] = 'display_data';\n",
              "          await google.colab.output.renderOutput(dataTable, element);\n",
              "          const docLink = document.createElement('div');\n",
              "          docLink.innerHTML = docLinkHtml;\n",
              "          element.appendChild(docLink);\n",
              "        }\n",
              "      </script>\n",
              "    </div>\n",
              "  </div>\n",
              "  "
            ]
          },
          "metadata": {},
          "execution_count": 22
        }
      ]
    },
    {
      "cell_type": "code",
      "source": [
        "# Re-init a model using scikit-learn's RandomForestClassifier model \n",
        "rf_model = RandomForestClassifier(n_estimators=110)\n",
        "\n",
        "# Re-fit the model to the training data\n",
        "rf_model = rf_model.fit(X_train, y_train)\n"
      ],
      "metadata": {
        "id": "ik6Ql_oV8qAp"
      },
      "execution_count": null,
      "outputs": []
    },
    {
      "cell_type": "code",
      "source": [
        "# Now make predictions on the test data \n",
        "rf_predictions_test = rf_model.predict(X_test)\n",
        "\n",
        "# Display accuracy and confusion matrix \n",
        "rf_display = ConfusionMatrixDisplay(confusion_matrix(y_test, rf_predictions_test), display_labels=['1', '2','3','4','5'])\n",
        "rf_display.plot()\n",
        "print(f\"Random Forest accuracy (on X_test): {accuracy_score(y_test, rf_predictions_test):.4f}\")"
      ],
      "metadata": {
        "colab": {
          "base_uri": "https://localhost:8080/",
          "height": 296
        },
        "id": "Go-G4uzMBfPh",
        "outputId": "d314fd0f-39cb-4961-aa0b-385991a6fda3"
      },
      "execution_count": null,
      "outputs": [
        {
          "output_type": "stream",
          "name": "stdout",
          "text": [
            "Random Forest accuracy (on X_test): 0.8170\n"
          ]
        },
        {
          "output_type": "display_data",
          "data": {
            "text/plain": [
              "<Figure size 432x288 with 2 Axes>"
            ],
            "image/png": "[encoded data removed]"
          },
          "metadata": {
            "needs_background": "light"
          }
        }
      ]
    },
    {
      "cell_type": "markdown",
      "source": [
        "## Conclusions 2.1\n",
        "\n",
        "After removing the 0 rating reviews from both my training and test data as well as adjusting my training model to use the correct vectorizer methods, my training model performed much better. 81.7% vs. 48.82% accuracy is a significant improvement!! In the final part of this project I am going to be using a deep learning model with my data set to see if I can improve on my accuracy score at all! Stay tuned! "
      ],
      "metadata": {
        "id": "HlV3Ss0y-neT"
      }
    }
  ]
}