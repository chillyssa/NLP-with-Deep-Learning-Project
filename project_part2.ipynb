{
  "nbformat": 4,
  "nbformat_minor": 0,
  "metadata": {
    "colab": {
      "provenance": [],
      "machine_shape": "hm",
      "authorship_tag": "ABX9TyN9EhQmj6zJN5Di5dM0PWoX"
    },
    "kernelspec": {
      "name": "python3",
      "display_name": "Python 3"
    },
    "language_info": {
      "name": "python"
    },
    "gpuClass": "premium",
    "accelerator": "GPU"
  },
  "cells": [
    {
      "cell_type": "markdown",
      "source": [
        "# Recipe Review Sentiment Analysis: A Baseline Model \n",
        "\n",
        "[![Open In Colab](https://colab.research.google.com/assets/colab-badge.svg)](https://colab.research.google.com/github/chillyssa/NLP-with-Deep-Learning-Project/blob/main/project_part2.ipynb)\n",
        "\n",
        "In my previous notebook [Recipe Review Analysis Part I](https://colab.research.google.com/github/chillyssa/NLP-with-Deep-Learning-Project/blob/main/project_part1.ipynb) I introduced an experiment where I will use sentiment analysis to examine a set of [recipe review data](https://www.kaggle.com/datasets/shuyangli94/food-com-recipes-and-user-interactions) from Food.com's online recipe generator. In that notebook I preprocessed and tokenized the reviews as well as presented some exploratory data analysis. \n",
        "\n",
        "In this notebook I will import the tokenized data set and implement a baseline machine learning model for recipe review sentiment analysis! \n",
        "\n",
        "The original data set comes from Kaggle and was originally gathered for the below cited research. \n",
        "\n",
        "Generating Personalized Recipes from Historical User Preferences\n",
        "Bodhisattwa Prasad Majumder*, Shuyang Li*, Jianmo Ni, Julian McAuley\n",
        "EMNLP, 2019\n",
        "https://www.aclweb.org/anthology/D19-1613/\n",
        "\n",
        "## Loading Pre-processed Taining Data "
      ],
      "metadata": {
        "id": "TbuMu_FD_Spy"
      }
    },
    {
      "cell_type": "code",
      "source": [
        "# mount google drive to import data files - only have to run this once. \n",
        "from google.colab import drive\n",
        "drive.mount('/content/drive')"
      ],
      "metadata": {
        "colab": {
          "base_uri": "https://localhost:8080/"
        },
        "id": "8vfH9PbSHdj3",
        "outputId": "860bd884-7090-426c-ca7f-4934f14c19f9"
      },
      "execution_count": 8,
      "outputs": [
        {
          "output_type": "stream",
          "name": "stdout",
          "text": [
            "Drive already mounted at /content/drive; to attempt to forcibly remount, call drive.mount(\"/content/drive\", force_remount=True).\n"
          ]
        }
      ]
    },
    {
      "cell_type": "code",
      "source": [
        "# importing python modules/packages to be utilized \n",
        "import pandas as pd\n",
        "import numpy as np\n",
        "import matplotlib.pyplot as plt\n",
        "from sklearn.model_selection import train_test_split\n",
        "from sklearn.feature_extraction.text import CountVectorizer\n",
        "from sklearn.feature_extraction.text import TfidfVectorizer\n",
        "from sklearn.metrics import confusion_matrix, ConfusionMatrixDisplay, accuracy_score\n",
        "from sklearn.metrics import log_loss\n",
        "\n",
        "# Trying different models and using the best fit \n",
        "from sklearn.ensemble import RandomForestClassifier, ExtraTreesClassifier, AdaBoostClassifier, GradientBoostingClassifier\n",
        "\n",
        "\n",
        "# importing data set with pandas\n",
        "pd.set_option('display.max_colwidth', 0)\n",
        "train_path = '/content/drive/MyDrive/NLP-F22/data/pp_train.csv'\n",
        "df_train = pd.read_csv(train_path)\n",
        "df_train['tokens'] = df_train['p_review'].str.lower().str.split()\n",
        "df_train.head()"
      ],
      "metadata": {
        "colab": {
          "base_uri": "https://localhost:8080/",
          "height": 858
        },
        "id": "cWmBMa8AG_dl",
        "outputId": "dab75843-61b8-4b80-e492-f5b9199dba6a"
      },
      "execution_count": 9,
      "outputs": [
        {
          "output_type": "execute_result",
          "data": {
            "text/plain": [
              "   Unnamed: 0  Unnamed: 0.1  Unnamed: 0.1.1  user_id  recipe_id        date  \\\n",
              "0  0           0             396288          384043   19023      2008-06-20   \n",
              "1  1           1             1110400         1127316  51803      2009-01-12   \n",
              "2  2           2             510362          1872570  89207      2011-04-02   \n",
              "3  3           3             563666          278578   106627     2008-01-25   \n",
              "4  4           4             242052          235493   28559      2005-09-30   \n",
              "\n",
              "   rating  \\\n",
              "0  5        \n",
              "1  0        \n",
              "2  0        \n",
              "3  5        \n",
              "4  5        \n",
              "\n",
              "                                                                                                                                                                                                                                                                                                                                                                                                         review  \\\n",
              "0  Oh So good!!!!!!!   Thank you for the great recipe.  It was the first time I've ever made my own sauce and I was so proud.                                                                                                                                                                                                                                                                                     \n",
              "1  This is a great soup.  Only, watch out for the flavor packet that it comes with.  It contains MSG, under the name of hydrolyzed soy protein (anything hydrolyzed or autolyzed contains free glutamate).  It is a great soup without the flavor packet.  Yum!                                                                                                                                                   \n",
              "2  Haven't made this yet but just wanted to let HeyLillie know that I printed the recipe and it was correct.  No weird mixup on the measurements.  Perhaps your printer had a glitch.  That said I am anxious to try this frosting on a ho ho cake.   Will post after that.                                                                                                                                       \n",
              "3  great recipe! very easy and tasty. my very picky toddler could not get enough of it so that makes it a keeper!                                                                                                                                                                                                                                                                                                 \n",
              "4  Once again, another fantastic recipe from this cook.  My lasagna never quite turns out right but this was perfect!  Even my picky hubby loved it.  The only difference was I used ricotta instead of cottage cheese but actually I think next time I might go ahead and use cottage cheese.  This was great!  I can't wait to make it again.  Thank you so much for posting this.  You are a fantastic cook!   \n",
              "\n",
              "   review_len  word_count  \\\n",
              "0  122         25           \n",
              "1  252         43           \n",
              "2  264         50           \n",
              "3  110         22           \n",
              "4  396         72           \n",
              "\n",
              "                                                                                                                                                                                                                                                       p_review  \\\n",
              "0  oh good thank great recipe first time ive ever made sauce proud                                                                                                                                                                                                \n",
              "1  great soup watch flavor packet come contains msg name hydrolyzed soy protein anything hydrolyzed autolyzed contains free glutamate great soup without flavor packet yum                                                                                        \n",
              "2  havent made yet wanted let know printed recipe correct weird mixup measurement perhaps printer glitch said anxious try frosting ho ho cake post                                                                                                                \n",
              "3  great recipe easy tasty picky toddler could get enough make keeper                                                                                                                                                                                             \n",
              "4  another fantastic recipe cook lasagna never quite turn right perfect even picky hubby loved difference used ricotta instead cottage cheese actually think next time might go ahead use cottage cheese great cant wait make thank much posting fantastic cook   \n",
              "\n",
              "                                                                                                                                                                                                                                                                                                 tokens  \n",
              "0  [oh, good, thank, great, recipe, first, time, ive, ever, made, sauce, proud]                                                                                                                                                                                                                          \n",
              "1  [great, soup, watch, flavor, packet, come, contains, msg, name, hydrolyzed, soy, protein, anything, hydrolyzed, autolyzed, contains, free, glutamate, great, soup, without, flavor, packet, yum]                                                                                                      \n",
              "2  [havent, made, yet, wanted, let, know, printed, recipe, correct, weird, mixup, measurement, perhaps, printer, glitch, said, anxious, try, frosting, ho, ho, cake, post]                                                                                                                               \n",
              "3  [great, recipe, easy, tasty, picky, toddler, could, get, enough, make, keeper]                                                                                                                                                                                                                        \n",
              "4  [another, fantastic, recipe, cook, lasagna, never, quite, turn, right, perfect, even, picky, hubby, loved, difference, used, ricotta, instead, cottage, cheese, actually, think, next, time, might, go, ahead, use, cottage, cheese, great, cant, wait, make, thank, much, posting, fantastic, cook]  "
            ],
            "text/html": [
              "\n",
              "  <div id=\"df-f59a0615-8769-4340-b3b2-524397f037c7\">\n",
              "    <div class=\"colab-df-container\">\n",
              "      <div>\n",
              "<style scoped>\n",
              "    .dataframe tbody tr th:only-of-type {\n",
              "        vertical-align: middle;\n",
              "    }\n",
              "\n",
              "    .dataframe tbody tr th {\n",
              "        vertical-align: top;\n",
              "    }\n",
              "\n",
              "    .dataframe thead th {\n",
              "        text-align: right;\n",
              "    }\n",
              "</style>\n",
              "<table border=\"1\" class=\"dataframe\">\n",
              "  <thead>\n",
              "    <tr style=\"text-align: right;\">\n",
              "      <th></th>\n",
              "      <th>Unnamed: 0</th>\n",
              "      <th>Unnamed: 0.1</th>\n",
              "      <th>Unnamed: 0.1.1</th>\n",
              "      <th>user_id</th>\n",
              "      <th>recipe_id</th>\n",
              "      <th>date</th>\n",
              "      <th>rating</th>\n",
              "      <th>review</th>\n",
              "      <th>review_len</th>\n",
              "      <th>word_count</th>\n",
              "      <th>p_review</th>\n",
              "      <th>tokens</th>\n",
              "    </tr>\n",
              "  </thead>\n",
              "  <tbody>\n",
              "    <tr>\n",
              "      <th>0</th>\n",
              "      <td>0</td>\n",
              "      <td>0</td>\n",
              "      <td>396288</td>\n",
              "      <td>384043</td>\n",
              "      <td>19023</td>\n",
              "      <td>2008-06-20</td>\n",
              "      <td>5</td>\n",
              "      <td>Oh So good!!!!!!!   Thank you for the great recipe.  It was the first time I've ever made my own sauce and I was so proud.</td>\n",
              "      <td>122</td>\n",
              "      <td>25</td>\n",
              "      <td>oh good thank great recipe first time ive ever made sauce proud</td>\n",
              "      <td>[oh, good, thank, great, recipe, first, time, ive, ever, made, sauce, proud]</td>\n",
              "    </tr>\n",
              "    <tr>\n",
              "      <th>1</th>\n",
              "      <td>1</td>\n",
              "      <td>1</td>\n",
              "      <td>1110400</td>\n",
              "      <td>1127316</td>\n",
              "      <td>51803</td>\n",
              "      <td>2009-01-12</td>\n",
              "      <td>0</td>\n",
              "      <td>This is a great soup.  Only, watch out for the flavor packet that it comes with.  It contains MSG, under the name of hydrolyzed soy protein (anything hydrolyzed or autolyzed contains free glutamate).  It is a great soup without the flavor packet.  Yum!</td>\n",
              "      <td>252</td>\n",
              "      <td>43</td>\n",
              "      <td>great soup watch flavor packet come contains msg name hydrolyzed soy protein anything hydrolyzed autolyzed contains free glutamate great soup without flavor packet yum</td>\n",
              "      <td>[great, soup, watch, flavor, packet, come, contains, msg, name, hydrolyzed, soy, protein, anything, hydrolyzed, autolyzed, contains, free, glutamate, great, soup, without, flavor, packet, yum]</td>\n",
              "    </tr>\n",
              "    <tr>\n",
              "      <th>2</th>\n",
              "      <td>2</td>\n",
              "      <td>2</td>\n",
              "      <td>510362</td>\n",
              "      <td>1872570</td>\n",
              "      <td>89207</td>\n",
              "      <td>2011-04-02</td>\n",
              "      <td>0</td>\n",
              "      <td>Haven't made this yet but just wanted to let HeyLillie know that I printed the recipe and it was correct.  No weird mixup on the measurements.  Perhaps your printer had a glitch.  That said I am anxious to try this frosting on a ho ho cake.   Will post after that.</td>\n",
              "      <td>264</td>\n",
              "      <td>50</td>\n",
              "      <td>havent made yet wanted let know printed recipe correct weird mixup measurement perhaps printer glitch said anxious try frosting ho ho cake post</td>\n",
              "      <td>[havent, made, yet, wanted, let, know, printed, recipe, correct, weird, mixup, measurement, perhaps, printer, glitch, said, anxious, try, frosting, ho, ho, cake, post]</td>\n",
              "    </tr>\n",
              "    <tr>\n",
              "      <th>3</th>\n",
              "      <td>3</td>\n",
              "      <td>3</td>\n",
              "      <td>563666</td>\n",
              "      <td>278578</td>\n",
              "      <td>106627</td>\n",
              "      <td>2008-01-25</td>\n",
              "      <td>5</td>\n",
              "      <td>great recipe! very easy and tasty. my very picky toddler could not get enough of it so that makes it a keeper!</td>\n",
              "      <td>110</td>\n",
              "      <td>22</td>\n",
              "      <td>great recipe easy tasty picky toddler could get enough make keeper</td>\n",
              "      <td>[great, recipe, easy, tasty, picky, toddler, could, get, enough, make, keeper]</td>\n",
              "    </tr>\n",
              "    <tr>\n",
              "      <th>4</th>\n",
              "      <td>4</td>\n",
              "      <td>4</td>\n",
              "      <td>242052</td>\n",
              "      <td>235493</td>\n",
              "      <td>28559</td>\n",
              "      <td>2005-09-30</td>\n",
              "      <td>5</td>\n",
              "      <td>Once again, another fantastic recipe from this cook.  My lasagna never quite turns out right but this was perfect!  Even my picky hubby loved it.  The only difference was I used ricotta instead of cottage cheese but actually I think next time I might go ahead and use cottage cheese.  This was great!  I can't wait to make it again.  Thank you so much for posting this.  You are a fantastic cook!</td>\n",
              "      <td>396</td>\n",
              "      <td>72</td>\n",
              "      <td>another fantastic recipe cook lasagna never quite turn right perfect even picky hubby loved difference used ricotta instead cottage cheese actually think next time might go ahead use cottage cheese great cant wait make thank much posting fantastic cook</td>\n",
              "      <td>[another, fantastic, recipe, cook, lasagna, never, quite, turn, right, perfect, even, picky, hubby, loved, difference, used, ricotta, instead, cottage, cheese, actually, think, next, time, might, go, ahead, use, cottage, cheese, great, cant, wait, make, thank, much, posting, fantastic, cook]</td>\n",
              "    </tr>\n",
              "  </tbody>\n",
              "</table>\n",
              "</div>\n",
              "      <button class=\"colab-df-convert\" onclick=\"convertToInteractive('df-f59a0615-8769-4340-b3b2-524397f037c7')\"\n",
              "              title=\"Convert this dataframe to an interactive table.\"\n",
              "              style=\"display:none;\">\n",
              "        \n",
              "  <svg xmlns=\"http://www.w3.org/2000/svg\" height=\"24px\"viewBox=\"0 0 24 24\"\n",
              "       width=\"24px\">\n",
              "    <path d=\"M0 0h24v24H0V0z\" fill=\"none\"/>\n",
              "    <path d=\"M18.56 5.44l.94 2.06.94-2.06 2.06-.94-2.06-.94-.94-2.06-.94 2.06-2.06.94zm-11 1L8.5 8.5l.94-2.06 2.06-.94-2.06-.94L8.5 2.5l-.94 2.06-2.06.94zm10 10l.94 2.06.94-2.06 2.06-.94-2.06-.94-.94-2.06-.94 2.06-2.06.94z\"/><path d=\"M17.41 7.96l-1.37-1.37c-.4-.4-.92-.59-1.43-.59-.52 0-1.04.2-1.43.59L10.3 9.45l-7.72 7.72c-.78.78-.78 2.05 0 2.83L4 21.41c.39.39.9.59 1.41.59.51 0 1.02-.2 1.41-.59l7.78-7.78 2.81-2.81c.8-.78.8-2.07 0-2.86zM5.41 20L4 18.59l7.72-7.72 1.47 1.35L5.41 20z\"/>\n",
              "  </svg>\n",
              "      </button>\n",
              "      \n",
              "  <style>\n",
              "    .colab-df-container {\n",
              "      display:flex;\n",
              "      flex-wrap:wrap;\n",
              "      gap: 12px;\n",
              "    }\n",
              "\n",
              "    .colab-df-convert {\n",
              "      background-color: #E8F0FE;\n",
              "      border: none;\n",
              "      border-radius: 50%;\n",
              "      cursor: pointer;\n",
              "      display: none;\n",
              "      fill: #1967D2;\n",
              "      height: 32px;\n",
              "      padding: 0 0 0 0;\n",
              "      width: 32px;\n",
              "    }\n",
              "\n",
              "    .colab-df-convert:hover {\n",
              "      background-color: #E2EBFA;\n",
              "      box-shadow: 0px 1px 2px rgba(60, 64, 67, 0.3), 0px 1px 3px 1px rgba(60, 64, 67, 0.15);\n",
              "      fill: #174EA6;\n",
              "    }\n",
              "\n",
              "    [theme=dark] .colab-df-convert {\n",
              "      background-color: #3B4455;\n",
              "      fill: #D2E3FC;\n",
              "    }\n",
              "\n",
              "    [theme=dark] .colab-df-convert:hover {\n",
              "      background-color: #434B5C;\n",
              "      box-shadow: 0px 1px 3px 1px rgba(0, 0, 0, 0.15);\n",
              "      filter: drop-shadow(0px 1px 2px rgba(0, 0, 0, 0.3));\n",
              "      fill: #FFFFFF;\n",
              "    }\n",
              "  </style>\n",
              "\n",
              "      <script>\n",
              "        const buttonEl =\n",
              "          document.querySelector('#df-f59a0615-8769-4340-b3b2-524397f037c7 button.colab-df-convert');\n",
              "        buttonEl.style.display =\n",
              "          google.colab.kernel.accessAllowed ? 'block' : 'none';\n",
              "\n",
              "        async function convertToInteractive(key) {\n",
              "          const element = document.querySelector('#df-f59a0615-8769-4340-b3b2-524397f037c7');\n",
              "          const dataTable =\n",
              "            await google.colab.kernel.invokeFunction('convertToInteractive',\n",
              "                                                     [key], {});\n",
              "          if (!dataTable) return;\n",
              "\n",
              "          const docLinkHtml = 'Like what you see? Visit the ' +\n",
              "            '<a target=\"_blank\" href=https://colab.research.google.com/notebooks/data_table.ipynb>data table notebook</a>'\n",
              "            + ' to learn more about interactive tables.';\n",
              "          element.innerHTML = '';\n",
              "          dataTable['output_type'] = 'display_data';\n",
              "          await google.colab.output.renderOutput(dataTable, element);\n",
              "          const docLink = document.createElement('div');\n",
              "          docLink.innerHTML = docLinkHtml;\n",
              "          element.appendChild(docLink);\n",
              "        }\n",
              "      </script>\n",
              "    </div>\n",
              "  </div>\n",
              "  "
            ]
          },
          "metadata": {},
          "execution_count": 9
        }
      ]
    },
    {
      "cell_type": "markdown",
      "source": [
        "## Splitting Data and Tokenization \n",
        "I want to extract the training data we are focusing on which is the recipe reviews(input features) and the rating(targets/labels). Note that we do already have a column feature of `tokens` that I created from `p_review` in my previous notebook, however I am going to instead tokenize `p_review` using Scikit-learn's `CountVectorizer` class. This will transform my `p_review` text into a matrix of token counts. I will use this later with the test/validation data as well. \n",
        "\n",
        "Additionally, I will split the training data furhter into training data and validation data to avoid data leakage while training the base model. I will use 80% of the data for training and 20% for validation. "
      ],
      "metadata": {
        "id": "6Ivw4hVJWiOI"
      }
    },
    {
      "cell_type": "code",
      "source": [
        "# X will hold our processed review text and y will hold the rating which is our label/target value. \n",
        "X = df_train['p_review'].copy().astype('U')\n",
        "y = df_train['rating'].copy().astype('U')\n",
        "\n",
        "# split data into train and validation sets: df_train and df_val\n",
        "X_train_raw, X_val_raw, y_train, y_val = train_test_split(X, y, test_size=0.20, random_state=42)\n",
        "\n",
        "# tokenize p_review into a matrix for X_train and X_val\n",
        "one_hot_vectorizer = CountVectorizer(binary=True, max_features=10000)\n",
        "X_train = one_hot_vectorizer.fit_transform(X_train_raw)\n",
        "X_val = one_hot_vectorizer.fit_transform(X_val_raw)\n",
        "\n",
        "# tfidf_vectorizer = TfidfVectorizer()\n",
        "# X_train = tfidf_vectorizer.fit_transform(X_train_raw).toarray()\n",
        "# X_val = tfidf_vectorizer.fit_transform(X_val_raw).toarray()\n",
        "\n",
        "print(f\"X_train.shape = {X_train.shape}\")\n",
        "print(f\"X_val.shape = {X_val.shape}\")\n",
        "type(X_train)\n",
        "type(X_val)"
      ],
      "metadata": {
        "colab": {
          "base_uri": "https://localhost:8080/"
        },
        "id": "7jmhSDnxVJNf",
        "outputId": "fcd1c555-3573-4624-936e-cbdd403037e7"
      },
      "execution_count": 23,
      "outputs": [
        {
          "output_type": "stream",
          "name": "stdout",
          "text": [
            "X_train.shape = (176608, 10000)\n",
            "X_val.shape = (44153, 10000)\n"
          ]
        },
        {
          "output_type": "execute_result",
          "data": {
            "text/plain": [
              "scipy.sparse.csr.csr_matrix"
            ]
          },
          "metadata": {},
          "execution_count": 23
        }
      ]
    },
    {
      "cell_type": "markdown",
      "source": [
        "## The Baseline Model \n",
        "\n",
        "Now that we have a set of tokens we can build a baseline model! For this model, I have chosen to move forward with the [RandomForestClassifier](https://scikit-learn.org/stable/modules/generated/sklearn.ensemble.RandomForestClassifier.html). I will first start with the training data and then move to the validation data. Then I will execute a funciton for hyperparameter tuning to see if we can increase accuracy! "
      ],
      "metadata": {
        "id": "RxSudiZ9fcXz"
      }
    },
    {
      "cell_type": "markdown",
      "source": [
        "### Random Forest"
      ],
      "metadata": {
        "id": "HdGBXhYoi93k"
      }
    },
    {
      "cell_type": "code",
      "source": [
        "#init a model using scikit-learn's RandomForestClassifier model \n",
        "rf_model = RandomForestClassifier(n_estimators=25)\n",
        "\n",
        "#Fit the model to the training data, \n",
        "rf_model = rf_model.fit(X_train, y_train)\n",
        "rf_predictions_train = rf_model.predict(X_train)\n",
        "\n",
        "rf_display = ConfusionMatrixDisplay(confusion_matrix(y_train, rf_predictions_train), display_labels=['0', '1', '2','3','4','5'])\n",
        "rf_display.plot()\n",
        "print(f\"Random Forest accuracy (on X_train): {accuracy_score(y_train, rf_predictions_train):.4f}\")"
      ],
      "metadata": {
        "colab": {
          "base_uri": "https://localhost:8080/",
          "height": 296
        },
        "id": "kivXuSQYjBSd",
        "outputId": "24102b4f-5e78-463d-b15d-2d4485303e5b"
      },
      "execution_count": 24,
      "outputs": [
        {
          "output_type": "stream",
          "name": "stdout",
          "text": [
            "Random Forest accuracy (on X_train): 0.9943\n"
          ]
        },
        {
          "output_type": "display_data",
          "data": {
            "text/plain": [
              "<Figure size 432x288 with 2 Axes>"
            ],
            "image/png": "[encoded data removed]"
          },
          "metadata": {
            "needs_background": "light"
          }
        }
      ]
    },
    {
      "cell_type": "markdown",
      "source": [
        "#### Fitting Random Forest to the Validation Data "
      ],
      "metadata": {
        "id": "0FCiDbfSAVg7"
      }
    },
    {
      "cell_type": "code",
      "source": [
        "#tokenizing p_review on validation data \n",
        "X_val = one_hot_vectorizer.fit_transform(X_val_raw.astype('U'))\n",
        "print(f\"X_val.shape = {X_val.shape}\")\n",
        "type(X_val)"
      ],
      "metadata": {
        "colab": {
          "base_uri": "https://localhost:8080/"
        },
        "id": "w91MLGvbAoX4",
        "outputId": "f7a35f45-49cf-4037-87d8-2b822f78ab32"
      },
      "execution_count": 25,
      "outputs": [
        {
          "output_type": "stream",
          "name": "stdout",
          "text": [
            "X_val.shape = (44153, 10000)\n"
          ]
        },
        {
          "output_type": "execute_result",
          "data": {
            "text/plain": [
              "scipy.sparse.csr.csr_matrix"
            ]
          },
          "metadata": {},
          "execution_count": 25
        }
      ]
    },
    {
      "cell_type": "code",
      "source": [
        "rf_predictions_val = rf_model.predict(X_val)\n",
        "disp = ConfusionMatrixDisplay(confusion_matrix(y_val, rf_predictions_val), display_labels=['0', '1', '2','3','4','5'])\n",
        "disp.plot()\n",
        "print(f\"accuracy (on X_train): {accuracy_score(y_val, rf_predictions_val):.4f}\")"
      ],
      "metadata": {
        "colab": {
          "base_uri": "https://localhost:8080/",
          "height": 296
        },
        "id": "lF12h4YvAifX",
        "outputId": "c2fa5985-854a-4bdd-c930-63ceb2ed73b2"
      },
      "execution_count": 26,
      "outputs": [
        {
          "output_type": "stream",
          "name": "stdout",
          "text": [
            "accuracy (on X_train): 0.6133\n"
          ]
        },
        {
          "output_type": "display_data",
          "data": {
            "text/plain": [
              "<Figure size 432x288 with 2 Axes>"
            ],
            "image/png": "[encoded data removed]"
          },
          "metadata": {
            "needs_background": "light"
          }
        }
      ]
    },
    {
      "cell_type": "markdown",
      "source": [
        "#### Tuning a Hyperparameter "
      ],
      "metadata": {
        "id": "rwDOYgq6HxtO"
      }
    },
    {
      "cell_type": "code",
      "source": [
        "rf_tune = True # change this to False once hyperparam value is set \n",
        "\n",
        "# A function to create and fit a RF with a specific number of trees\n",
        "def rf_tune_model(hyperparam_value):\n",
        "    rf_model = RandomForestClassifier(n_estimators=hyperparam_value, random_state=5)\n",
        "    rf_model.fit(X_train, y_train)\n",
        "    y_train_pred_prob = rf_model.predict_proba(X_train)\n",
        "    y_train_pred = rf_model.predict(X_train)\n",
        "    y_val_pred_prob = rf_model.predict_proba(X_val)\n",
        "    y_val_pred = rf_model.predict(X_val)\n",
        "    train_loss = log_loss(y_train, y_train_pred_prob, labels=['0','1','2','3','4','5'])\n",
        "    train_acc = accuracy_score(y_train, y_train_pred)\n",
        "    val_loss = log_loss(y_val, y_val_pred_prob, labels=['0','1','2','3','4','5'])\n",
        "    val_acc = accuracy_score(y_val, y_val_pred)\n",
        "    return (train_loss, val_loss, train_acc, val_acc)\n",
        "\n",
        "# Possible values for the hyperparameter are in the range of 5 to 150 (by 50)\n",
        "hyp_param_vals = list(range(10,261,50)) # good values for n_estimators\n",
        "\n",
        "metrics = []\n",
        "\n",
        "if rf_tune:\n",
        "    for hp in hyp_param_vals:\n",
        "        metrics.append(rf_tune_model(hp))"
      ],
      "metadata": {
        "id": "LuEF77goH7DE"
      },
      "execution_count": 30,
      "outputs": []
    },
    {
      "cell_type": "markdown",
      "source": [
        "##### Model Performance Results for Hyperparameter Tuning "
      ],
      "metadata": {
        "id": "154aVPZjd4vq"
      }
    },
    {
      "cell_type": "code",
      "source": [
        "# plot the results of each hyperparameter value specified in rf_tune_model \n",
        "if rf_tune:\n",
        "    fig, (ax1, ax2) = plt.subplots(1, 2, figsize=(16, 4))\n",
        "\n",
        "    ax1.set_xticks(hyp_param_vals)\n",
        "    ax1.set(xlabel=\"n_estimators\", ylabel=\"loss (lower is better)\")\n",
        "    ax1.plot(hyp_param_vals, [metric[1] for metric in metrics], '--ro') # validation loss\n",
        "    ax1.plot(hyp_param_vals, [metric[0] for metric in metrics], '--bo') # training loss\n",
        "    ax1.legend([\"Validation Loss\", \"Train Loss\"], loc=1)\n",
        "\n",
        "    ax2.set_xticks(hyp_param_vals)\n",
        "    ax2.set(xlabel=\"n_estimators\", ylabel=\"accuracy (higher is better)\")\n",
        "    ax2.plot(hyp_param_vals, [metric[3] for metric in metrics], '--ro') # validation accuracy\n",
        "    ax2.plot(hyp_param_vals, [metric[2] for metric in metrics], '--bo') # training accuracy\n",
        "    ax2.legend([\"Validation Accuracy\", \"Train Accuracy\"], loc=4)"
      ],
      "metadata": {
        "colab": {
          "base_uri": "https://localhost:8080/",
          "height": 280
        },
        "id": "imuznmfheD8N",
        "outputId": "baccd4b7-bafb-401b-c4ee-ce2e483a763c"
      },
      "execution_count": 31,
      "outputs": [
        {
          "output_type": "display_data",
          "data": {
            "text/plain": [
              "<Figure size 1152x288 with 2 Axes>"
            ],
            "image/png": "[encoded data removed]"
          },
          "metadata": {
            "needs_background": "light"
          }
        }
      ]
    },
    {
      "cell_type": "code",
      "source": [
        "# a data frame containing hyperparam values, second row containing validation loss, third row containing validation accuracy\n",
        "\n",
        "if rf_tune_model:\n",
        "  tuning_data = {'Hyperparameter Values': hyp_param_vals, \n",
        "                 'Log Loss': [round(metric[1],2) for metric in metrics], \n",
        "                 'Accuracy Score': [round(metric[3],2) for metric in metrics]}\n",
        "  tuning_results = pd.DataFrame(tuning_data)\n",
        "  print(tuning_results)"
      ],
      "metadata": {
        "colab": {
          "base_uri": "https://localhost:8080/"
        },
        "id": "JDyRdGhJemWA",
        "outputId": "ee78060a-da67-410d-e692-570ec6745857"
      },
      "execution_count": 38,
      "outputs": [
        {
          "output_type": "stream",
          "name": "stdout",
          "text": [
            "   Hyperparameter Values  Log Loss  Accuracy Score\n",
            "0  10                     3.07      0.59          \n",
            "1  60                     1.51      0.62          \n",
            "2  110                    1.37      0.63          \n",
            "3  160                    1.30      0.63          \n",
            "4  210                    1.28      0.63          \n",
            "5  260                    1.27      0.63          \n"
          ]
        }
      ]
    },
    {
      "cell_type": "markdown",
      "source": [
        "## Test Data "
      ],
      "metadata": {
        "id": "MSWJoEYIGUlJ"
      }
    },
    {
      "cell_type": "code",
      "source": [
        "test_path = '/content/drive/MyDrive/NLP-F22/data/pp_test.csv'\n",
        "df_test = pd.read_csv(test_path)\n",
        "\n",
        "df_test.head()\n",
        "\n",
        "X_test = one_hot_vectorizer.fit_transform(df_test['p_review'].astype('U'))\n",
        "y_test = df_test['rating'].copy().astype('U')\n",
        "print(f\"X_test.shape = {X_test.shape}\")\n",
        "type(X_test)"
      ],
      "metadata": {
        "colab": {
          "base_uri": "https://localhost:8080/"
        },
        "id": "Vc3sCCECGWvg",
        "outputId": "96965668-5b20-451b-ebc0-23b171355944"
      },
      "execution_count": 39,
      "outputs": [
        {
          "output_type": "stream",
          "name": "stdout",
          "text": [
            "X_test.shape = (56613, 10000)\n"
          ]
        },
        {
          "output_type": "execute_result",
          "data": {
            "text/plain": [
              "scipy.sparse.csr.csr_matrix"
            ]
          },
          "metadata": {},
          "execution_count": 39
        }
      ]
    },
    {
      "cell_type": "code",
      "source": [
        "# Re-init a model using scikit-learn's RandomForestClassifier model \n",
        "rf_model = RandomForestClassifier(n_estimators=110)\n",
        "\n",
        "# Re-fit the model to the training data\n",
        "rf_model = rf_model.fit(X_train, y_train)\n"
      ],
      "metadata": {
        "id": "ik6Ql_oV8qAp"
      },
      "execution_count": null,
      "outputs": []
    },
    {
      "cell_type": "code",
      "source": [
        "# Now make predictions on the test data \n",
        "rf_predictions_test = rf_model.predict(X_test)\n",
        "\n",
        "# Display accuracy and confusion matrix \n",
        "rf_display = ConfusionMatrixDisplay(confusion_matrix(y_test, rf_predictions_test), display_labels=['0', '1', '2','3','4','5'])\n",
        "rf_display.plot()\n",
        "print(f\"Random Forest accuracy (on X_test): {accuracy_score(y_test, rf_predictions_test):.4f}\")"
      ],
      "metadata": {
        "colab": {
          "base_uri": "https://localhost:8080/",
          "height": 296
        },
        "id": "Go-G4uzMBfPh",
        "outputId": "93ea0428-d887-4d7b-93e1-60e7463e9de1"
      },
      "execution_count": 42,
      "outputs": [
        {
          "output_type": "stream",
          "name": "stdout",
          "text": [
            "Random Forest accuracy (on X_test): 0.4882\n"
          ]
        },
        {
          "output_type": "display_data",
          "data": {
            "text/plain": [
              "<Figure size 432x288 with 2 Axes>"
            ],
            "image/png": "[encoded data removed]"
          },
          "metadata": {
            "needs_background": "light"
          }
        }
      ]
    },
    {
      "cell_type": "markdown",
      "source": [
        "## Conclusions \n",
        "\n",
        "Yikes!! 48.82% accuracy is not a good score at all. I do think it is worth backing up before progressing to part 3 and removing the review data where the rating is 0. The reason for this is that there is a wide array of reviews within the 0 rating data that I think is heavily skewing our accuracy based on teh confusion matrix. When people leave a review, but don't rate the recipe themselves, their review gets automatically put into the 0 rating category. Thus, the text sentiment of the review itself has no real meaning for the experiment I am running. \n",
        "\n",
        "One other note I want to add is that the shape of the one-hot-vector for `X_train`, `X_val` and `X_test` all varied so I had to use the `max_features` parameter to ensure the model would fit to all three data sets. \n",
        "\n",
        "\n",
        "Stay tuned for updates as I address these issues for Part 3 of Recipe Review Analysis! "
      ],
      "metadata": {
        "id": "HlV3Ss0y-neT"
      }
    }
  ]
}